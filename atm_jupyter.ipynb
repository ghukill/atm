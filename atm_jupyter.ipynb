{
 "cells": [
  {
   "cell_type": "code",
   "execution_count": null,
   "metadata": {
    "collapsed": true,
    "scrolled": true
   },
   "outputs": [],
   "source": [
    "'''\n",
    "Run once, and only once for environment\n",
    "'''\n",
    "\n",
    "# build some NKTL resources\n",
    "import nltk\n",
    "nltk.download() # opens pop-up, download corpora/stopwords.txt"
   ]
  },
  {
   "cell_type": "code",
   "execution_count": null,
   "metadata": {
    "scrolled": false
   },
   "outputs": [],
   "source": [
    "'''\n",
    "Prep corpora based on configurations from localsettings.py\n",
    "'''\n",
    "\n",
    "import atm\n",
    "\n",
    "# select model name\n",
    "model_name = raw_input('choose model name:')\n",
    "\n",
    "# instantiate Dropbox client\n",
    "dbx = atm.DBXClient()\n",
    "\n",
    "# download corpora with optional settings\n",
    "dbx.download_files(limit=10, extract_text=True)\n",
    "\n",
    "# instantiate an ATM model\n",
    "m = atm.Model(model_name)\n",
    "\n",
    "# retrieve all articles from disk, extract text and store in LevelDB\n",
    "m.get_all_articles()\n",
    "\n",
    "# generate gensim corpora, and then immediately load\n",
    "m.gen_corpora()\n",
    "m.load_corpora()\n",
    "\n",
    "# use LDA to generate topics\n",
    "m.gen_lda() # slow\n",
    "m.gen_similarity_index()"
   ]
  },
  {
   "cell_type": "code",
   "execution_count": null,
   "metadata": {
    "scrolled": false
   },
   "outputs": [],
   "source": [
    "'''\n",
    "Once model has been \"trained\", then can re-load\n",
    "(Duplicating imports, if starting from here)\n",
    "'''\n",
    "\n",
    "# import atm\n",
    "import atm\n",
    "\n",
    "# get model name from user\n",
    "model_name = raw_input('enter model name:')\n",
    "\n",
    "# import saved corpus, model, and index\n",
    "m = atm.Model(model_name)\n",
    "m.load_corpora()\n",
    "m.load_lda()\n",
    "\n",
    "# populate article_hash\n",
    "m.get_all_articles()\n",
    "\n",
    "# generate similarity index (or load)\n",
    "m.gen_similarity_index()"
   ]
  },
  {
   "cell_type": "code",
   "execution_count": null,
   "metadata": {},
   "outputs": [],
   "source": [
    "'''\n",
    "See topics that have been extracted from corpora\n",
    "'''\n",
    "m.lda.show_topics(num_topics=-1, formatted=False)"
   ]
  },
  {
   "cell_type": "code",
   "execution_count": null,
   "metadata": {
    "scrolled": true
   },
   "outputs": [],
   "source": [
    "'''\n",
    "Submit article to model and check similarity to other articles\n",
    "'''\n",
    "\n",
    "# open article\n",
    "article_filename = raw_input('enter filename:')\n",
    "a = atm.Article()\n",
    "a.load_local(article_filename)\n",
    "\n",
    "# generate attribute as vector bag of words (vec_bow), by passing model\n",
    "a.as_vec_bow(m)\n",
    "\n",
    "# run article similarity query, combing article and model\n",
    "# this saves to `article.sims`\n",
    "m.article_similarity_query(a)\n",
    "\n",
    "# view filenames of sims, with optional results parameter\n",
    "a.sims_as_filenames(m, results=20)"
   ]
  },
  {
   "cell_type": "code",
   "execution_count": null,
   "metadata": {
    "collapsed": true,
    "scrolled": true
   },
   "outputs": [],
   "source": []
  }
 ],
 "metadata": {
  "kernelspec": {
   "display_name": "Python 2",
   "language": "python",
   "name": "python2"
  },
  "language_info": {
   "codemirror_mode": {
    "name": "ipython",
    "version": 2
   },
   "file_extension": ".py",
   "mimetype": "text/x-python",
   "name": "python",
   "nbconvert_exporter": "python",
   "pygments_lexer": "ipython2",
   "version": "2.7.14"
  }
 },
 "nbformat": 4,
 "nbformat_minor": 2
}
